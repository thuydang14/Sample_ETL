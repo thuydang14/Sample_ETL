{
 "cells": [
  {
   "cell_type": "code",
   "execution_count": 1,
   "metadata": {},
   "outputs": [],
   "source": [
    "import pyspark\n",
    "from pyspark.sql import SparkSession\n",
    "from pyspark.sql import functions as f\n",
    "from pyspark.sql.types import DoubleType\n",
    "import os\n"
   ]
  },
  {
   "cell_type": "code",
   "execution_count": 2,
   "metadata": {},
   "outputs": [],
   "source": [
    "spark = SparkSession.builder.appName('thuy').getOrCreate()"
   ]
  },
  {
   "cell_type": "code",
   "execution_count": 3,
   "metadata": {},
   "outputs": [],
   "source": [
    "ROOT = '/home/jovyan/Thuy'\n",
    "file_name = 'Table7.Budget data.csv'\n",
    "Data_dir = os.path.join(ROOT, file_name)\n",
    "\n",
    "df = spark.read.csv(Data_dir, header=True)"
   ]
  },
  {
   "cell_type": "code",
   "execution_count": 4,
   "metadata": {},
   "outputs": [
    {
     "data": {
      "text/plain": [
       "83231"
      ]
     },
     "execution_count": 4,
     "metadata": {},
     "output_type": "execute_result"
    }
   ],
   "source": [
    "df.count()"
   ]
  },
  {
   "cell_type": "code",
   "execution_count": 5,
   "metadata": {},
   "outputs": [
    {
     "name": "stdout",
     "output_type": "stream",
     "text": [
      "root\n",
      " |-- Production date: string (nullable = true)\n",
      " |-- Origin and Destination country: string (nullable = true)\n",
      " |-- Project Name: string (nullable = true)\n",
      " |-- Amount: string (nullable = true)\n",
      "\n"
     ]
    },
    {
     "data": {
      "text/plain": [
       "8210"
      ]
     },
     "execution_count": 5,
     "metadata": {},
     "output_type": "execute_result"
    }
   ],
   "source": [
    "df= df.dropna()\n",
    "df.printSchema()\n",
    "df.count()"
   ]
  },
  {
   "cell_type": "code",
   "execution_count": 6,
   "metadata": {},
   "outputs": [],
   "source": [
    "df = df.withColumn('year', f.substring(df['Production date'], 0, 4))\n",
    "df = df.withColumn('month', f.substring(df['Production date'], 6, 2))\n",
    "df = df.withColumn('Origincountry', f.split(\n",
    "    df['Origin and Destination country'], \":\").getItem(0))\n",
    "df = df.withColumn('Destinationcountry', f.split(\n",
    "    df['Origin and Destination country'], \":\").getItem(1))\n",
    "df = df.withColumn('Year(Fiscal)', df['Project Name'].substr(\n",
    "    f.locate('FY', df['Project Name'])+2, f.lit(4)))\n",
    "df = df.withColumn('Month(Fiscal)', f.when(df['Project Name'].contains('Jan'),'January')\n",
    "                                    .when(df['Project Name'].contains('Feb'),'February')\n",
    "                                    .when(df['Project Name'].contains('Mar'),'April')\n",
    "                                    .when(df['Project Name'].contains('Apr'),'January')\n",
    "                                    .when(df['Project Name'].contains('May'),'May')\n",
    "                                    .when(df['Project Name'].contains('Jun'),'June')\n",
    "                                    .when(df['Project Name'].contains('Jul'),'July')\n",
    "                                    .when(df['Project Name'].contains('Aug'),'August')\n",
    "                                    .when(df['Project Name'].contains('Sep'),'September')\n",
    "                                    .when(df['Project Name'].contains('Oct'),'October')\n",
    "                                    .when(df['Project Name'].contains('Nov'),'November')\n",
    "                                    .when(df['Project Name'].contains('Dec'),'December')) \n",
    "df = df.withColumn('BudgetAmount', f.regexp_replace(df['Amount'], ',', '.'))\n",
    "df = df.withColumn('BudgetAmount', f.regexp_replace(\n",
    "    df['BudgetAmount'], ' ', ''))\n",
    "\n",
    "df = df.withColumn('FiscalYearPeriod', f.concat(df['Month(Fiscal)'], f.lit(\" \") , df['Year(Fiscal)']))\n"
   ]
  },
  {
   "cell_type": "code",
   "execution_count": 7,
   "metadata": {},
   "outputs": [
    {
     "name": "stdout",
     "output_type": "stream",
     "text": [
      "+---------------+------------------------------+--------------------+----------+----+-----+-------------+------------------+------------+-------------+------------+----------------+\n",
      "|Production date|Origin and Destination country|        Project Name|    Amount|year|month|Origincountry|Destinationcountry|Year(Fiscal)|Month(Fiscal)|BudgetAmount|FiscalYearPeriod|\n",
      "+---------------+------------------------------+--------------------+----------+----+-----+-------------+------------------+------------+-------------+------------+----------------+\n",
      "|     2008年02月|               Belarus:Estonia|<Actual> May (QTD...| 10 350,00|2008|   02|      Belarus|           Estonia|        2020|          May|    10350.00|        May 2020|\n",
      "|     2008年02月|                Belarus:Latvia|<Actual> June (QT...|  4 350,00|2008|   02|      Belarus|            Latvia|        2020|         June|     4350.00|       June 2020|\n",
      "|     2008年02月|             Belarus:Lithuania|<Actual> July (QT...|  1 702,40|2008|   02|      Belarus|         Lithuania|        2020|         July|     1702.40|       July 2020|\n",
      "|     2008年02月|                Belarus:Russia|<Actual> August (...|  1 702,40|2008|   02|      Belarus|            Russia|        2020|       August|     1702.40|     August 2020|\n",
      "|     2007年12月|               Brazil:Paraguay|<Actual> Septembe...|  7 770,00|2007|   12|       Brazil|          Paraguay|        2020|    September|     7770.00|  September 2020|\n",
      "|     2008年02月|            Canada:Netherlands|<Actual> October ...|  7 770,00|2008|   02|       Canada|       Netherlands|        2020|      October|     7770.00|    October 2020|\n",
      "|     2007年09月|           Canada:South Africa|<Actual> November...|479 820,00|2007|   09|       Canada|      South Africa|        2020|     November|   479820.00|   November 2020|\n",
      "|     2008年02月|          Canada:United States|<Actual> December...|279 168,00|2008|   02|       Canada|     United States|        2020|     December|   279168.00|   December 2020|\n",
      "|     2009年06月|                   China:Chile|<Actual> January ...| 33 984,00|2009|   06|        China|             Chile|        2020|      January|    33984.00|    January 2020|\n",
      "|     2009年06月|                    China:Cuba|<Actual> February...| 33 739,20|2009|   06|        China|              Cuba|        2020|     February|    33739.20|   February 2020|\n",
      "|     2009年05月|               China:Hong Kong|<Actual> March (Q...| 33 739,20|2009|   05|        China|         Hong Kong|        2020|        April|    33739.20|      April 2020|\n",
      "|     2009年05月|                   China:India|<Actual> April (Q...|     25,89|2009|   05|        China|             India|        2021|      January|       25.89|    January 2021|\n",
      "|     2009年05月|               China:Indonesia|<Actual> May (QTD...|       477|2009|   05|        China|         Indonesia|        2021|          May|         477|        May 2021|\n",
      "|     2009年05月|                China:Malaysia|<Actual> June (QT...|103 594,52|2009|   05|        China|          Malaysia|        2021|         June|   103594.52|       June 2021|\n",
      "|     2009年05月|                 China:Morocco|<Actual> July (QT...|     177,2|2009|   05|        China|           Morocco|        2021|         July|       177.2|       July 2021|\n",
      "|     2009年05月|                 China:Myanmar|<Actual> August (...| 13 759,20|2009|   05|        China|           Myanmar|        2021|       August|    13759.20|     August 2021|\n",
      "|     2009年05月|          China:Papua New G...|<Actual> Septembe...| 38 400,00|2009|   05|        China|  Papua New Guinea|        2021|    September|    38400.00|  September 2021|\n",
      "|     2008年03月|               China:Singapore|<Actual> October ...| 38 400,00|2008|   03|        China|         Singapore|        2021|      October|    38400.00|    October 2021|\n",
      "|     2008年03月|                  China:Taiwan|<Actual> November...|     81,15|2008|   03|        China|            Taiwan|        2021|     November|       81.15|   November 2021|\n",
      "|     2008年03月|                  China:Turkey|<Actual> December...| 63 525,00|2008|   03|        China|            Turkey|        2021|     December|    63525.00|   December 2021|\n",
      "+---------------+------------------------------+--------------------+----------+----+-----+-------------+------------------+------------+-------------+------------+----------------+\n",
      "only showing top 20 rows\n",
      "\n"
     ]
    }
   ],
   "source": [
    "df.show()"
   ]
  },
  {
   "cell_type": "code",
   "execution_count": 8,
   "metadata": {},
   "outputs": [
    {
     "name": "stdout",
     "output_type": "stream",
     "text": [
      "root\n",
      " |-- Production date: string (nullable = true)\n",
      " |-- Origin and Destination country: string (nullable = true)\n",
      " |-- Project Name: string (nullable = true)\n",
      " |-- Amount: string (nullable = true)\n",
      " |-- year: string (nullable = true)\n",
      " |-- month: string (nullable = true)\n",
      " |-- Origincountry: string (nullable = true)\n",
      " |-- Destinationcountry: string (nullable = true)\n",
      " |-- Year(Fiscal): string (nullable = true)\n",
      " |-- Month(Fiscal): string (nullable = true)\n",
      " |-- BudgetAmount: double (nullable = true)\n",
      " |-- FiscalYearPeriod: string (nullable = true)\n",
      "\n"
     ]
    }
   ],
   "source": [
    "df = df.withColumn('BudgetAmount', df['BudgetAmount'].cast('double'))\n",
    "df.printSchema()"
   ]
  },
  {
   "cell_type": "code",
   "execution_count": 9,
   "metadata": {},
   "outputs": [
    {
     "name": "stdout",
     "output_type": "stream",
     "text": [
      "+---------------+------------------------------+--------------------+----------+----+-----+-------------+------------------+------------+-------------+------------+----------------+\n",
      "|Production date|Origin and Destination country|        Project Name|    Amount|year|month|Origincountry|Destinationcountry|Year(Fiscal)|Month(Fiscal)|BudgetAmount|FiscalYearPeriod|\n",
      "+---------------+------------------------------+--------------------+----------+----+-----+-------------+------------------+------------+-------------+------------+----------------+\n",
      "|     2008年02月|               Belarus:Estonia|<Actual> May (QTD...| 10 350,00|2008|   02|      Belarus|           Estonia|        2020|          May|     10350.0|        May 2020|\n",
      "|     2008年02月|                Belarus:Latvia|<Actual> June (QT...|  4 350,00|2008|   02|      Belarus|            Latvia|        2020|         June|      4350.0|       June 2020|\n",
      "|     2008年02月|             Belarus:Lithuania|<Actual> July (QT...|  1 702,40|2008|   02|      Belarus|         Lithuania|        2020|         July|      1702.4|       July 2020|\n",
      "|     2008年02月|                Belarus:Russia|<Actual> August (...|  1 702,40|2008|   02|      Belarus|            Russia|        2020|       August|      1702.4|     August 2020|\n",
      "|     2007年12月|               Brazil:Paraguay|<Actual> Septembe...|  7 770,00|2007|   12|       Brazil|          Paraguay|        2020|    September|      7770.0|  September 2020|\n",
      "|     2008年02月|            Canada:Netherlands|<Actual> October ...|  7 770,00|2008|   02|       Canada|       Netherlands|        2020|      October|      7770.0|    October 2020|\n",
      "|     2007年09月|           Canada:South Africa|<Actual> November...|479 820,00|2007|   09|       Canada|      South Africa|        2020|     November|    479820.0|   November 2020|\n",
      "|     2008年02月|          Canada:United States|<Actual> December...|279 168,00|2008|   02|       Canada|     United States|        2020|     December|    279168.0|   December 2020|\n",
      "|     2009年06月|                   China:Chile|<Actual> January ...| 33 984,00|2009|   06|        China|             Chile|        2020|      January|     33984.0|    January 2020|\n",
      "|     2009年06月|                    China:Cuba|<Actual> February...| 33 739,20|2009|   06|        China|              Cuba|        2020|     February|     33739.2|   February 2020|\n",
      "|     2009年05月|               China:Hong Kong|<Actual> March (Q...| 33 739,20|2009|   05|        China|         Hong Kong|        2020|        April|     33739.2|      April 2020|\n",
      "|     2009年05月|                   China:India|<Actual> April (Q...|     25,89|2009|   05|        China|             India|        2021|      January|       25.89|    January 2021|\n",
      "|     2009年05月|               China:Indonesia|<Actual> May (QTD...|       477|2009|   05|        China|         Indonesia|        2021|          May|       477.0|        May 2021|\n",
      "|     2009年05月|                China:Malaysia|<Actual> June (QT...|103 594,52|2009|   05|        China|          Malaysia|        2021|         June|   103594.52|       June 2021|\n",
      "|     2009年05月|                 China:Morocco|<Actual> July (QT...|     177,2|2009|   05|        China|           Morocco|        2021|         July|       177.2|       July 2021|\n",
      "|     2009年05月|                 China:Myanmar|<Actual> August (...| 13 759,20|2009|   05|        China|           Myanmar|        2021|       August|     13759.2|     August 2021|\n",
      "|     2009年05月|          China:Papua New G...|<Actual> Septembe...| 38 400,00|2009|   05|        China|  Papua New Guinea|        2021|    September|     38400.0|  September 2021|\n",
      "|     2008年03月|               China:Singapore|<Actual> October ...| 38 400,00|2008|   03|        China|         Singapore|        2021|      October|     38400.0|    October 2021|\n",
      "|     2008年03月|                  China:Taiwan|<Actual> November...|     81,15|2008|   03|        China|            Taiwan|        2021|     November|       81.15|   November 2021|\n",
      "|     2008年03月|                  China:Turkey|<Actual> December...| 63 525,00|2008|   03|        China|            Turkey|        2021|     December|     63525.0|   December 2021|\n",
      "+---------------+------------------------------+--------------------+----------+----+-----+-------------+------------------+------------+-------------+------------+----------------+\n",
      "only showing top 20 rows\n",
      "\n"
     ]
    }
   ],
   "source": [
    "df.show()"
   ]
  },
  {
   "cell_type": "code",
   "execution_count": 10,
   "metadata": {},
   "outputs": [
    {
     "name": "stdout",
     "output_type": "stream",
     "text": [
      "+----+-----+-------------+------------------+------------+----------------+\n",
      "|year|month|Origincountry|Destinationcountry|BudgetAmount|FiscalYearPeriod|\n",
      "+----+-----+-------------+------------------+------------+----------------+\n",
      "|2008|   02|      Belarus|           Estonia|     10350.0|        May 2020|\n",
      "|2008|   02|      Belarus|            Latvia|      4350.0|       June 2020|\n",
      "|2008|   02|      Belarus|         Lithuania|      1702.4|       July 2020|\n",
      "|2008|   02|      Belarus|            Russia|      1702.4|     August 2020|\n",
      "|2007|   12|       Brazil|          Paraguay|      7770.0|  September 2020|\n",
      "|2008|   02|       Canada|       Netherlands|      7770.0|    October 2020|\n",
      "|2007|   09|       Canada|      South Africa|    479820.0|   November 2020|\n",
      "|2008|   02|       Canada|     United States|    279168.0|   December 2020|\n",
      "|2009|   06|        China|             Chile|     33984.0|    January 2020|\n",
      "|2009|   06|        China|              Cuba|     33739.2|   February 2020|\n",
      "|2009|   05|        China|         Hong Kong|     33739.2|      April 2020|\n",
      "|2009|   05|        China|             India|       25.89|    January 2021|\n",
      "|2009|   05|        China|         Indonesia|       477.0|        May 2021|\n",
      "|2009|   05|        China|          Malaysia|   103594.52|       June 2021|\n",
      "|2009|   05|        China|           Morocco|       177.2|       July 2021|\n",
      "|2009|   05|        China|           Myanmar|     13759.2|     August 2021|\n",
      "|2009|   05|        China|  Papua New Guinea|     38400.0|  September 2021|\n",
      "|2008|   03|        China|         Singapore|     38400.0|    October 2021|\n",
      "|2008|   03|        China|            Taiwan|       81.15|   November 2021|\n",
      "|2008|   03|        China|            Turkey|     63525.0|   December 2021|\n",
      "+----+-----+-------------+------------------+------------+----------------+\n",
      "only showing top 20 rows\n",
      "\n"
     ]
    }
   ],
   "source": [
    "df2 = df['year', 'month', 'Origincountry', 'Destinationcountry','BudgetAmount','FiscalYearPeriod']\n",
    "df2.show()"
   ]
  },
  {
   "cell_type": "code",
   "execution_count": 13,
   "metadata": {},
   "outputs": [
    {
     "name": "stdout",
     "output_type": "stream",
     "text": [
      "root\n",
      " |-- year: string (nullable = true)\n",
      " |-- month: string (nullable = true)\n",
      " |-- Origincountry: string (nullable = true)\n",
      " |-- Destinationcountry: string (nullable = true)\n",
      " |-- BudgetAmount: double (nullable = true)\n",
      " |-- FiscalYearPeriod: string (nullable = true)\n",
      "\n"
     ]
    }
   ],
   "source": [
    "df2.count()\n",
    "df2.printSchema()"
   ]
  },
  {
   "cell_type": "code",
   "execution_count": 12,
   "metadata": {},
   "outputs": [],
   "source": [
    "df2.toPandas().to_csv('budget.csv', index = None)"
   ]
  },
  {
   "cell_type": "code",
   "execution_count": 29,
   "metadata": {},
   "outputs": [
    {
     "data": {
      "text/plain": [
       "'3.2.1'"
      ]
     },
     "execution_count": 29,
     "metadata": {},
     "output_type": "execute_result"
    }
   ],
   "source": []
  }
 ],
 "metadata": {
  "kernelspec": {
   "display_name": "Python 3 (ipykernel)",
   "language": "python",
   "name": "python3"
  },
  "language_info": {
   "codemirror_mode": {
    "name": "ipython",
    "version": 3
   },
   "file_extension": ".py",
   "mimetype": "text/x-python",
   "name": "python",
   "nbconvert_exporter": "python",
   "pygments_lexer": "ipython3",
   "version": "3.10.4"
  },
  "orig_nbformat": 4,
  "vscode": {
   "interpreter": {
    "hash": "df95319d8ce4e1d89f5365ae10992bc1f65da593082b1d264e8f529830ec2f02"
   }
  }
 },
 "nbformat": 4,
 "nbformat_minor": 2
}
